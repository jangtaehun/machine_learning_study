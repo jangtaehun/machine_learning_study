{
 "cells": [
  {
   "cell_type": "markdown",
   "metadata": {
    "id": "idVqEZrNX0DW"
   },
   "source": [
    "#Data Preprocessing Tools"
   ]
  },
  {
   "cell_type": "markdown",
   "metadata": {
    "id": "zvk8pw_OYAgb"
   },
   "source": [
    "Importing the libraries"
   ]
  },
  {
   "cell_type": "code",
   "execution_count": 1,
   "metadata": {
    "colab": {
     "base_uri": "https://localhost:8080/"
    },
    "executionInfo": {
     "elapsed": 815,
     "status": "ok",
     "timestamp": 1703863845264,
     "user": {
      "displayName": "장태훈",
      "userId": "12651055537229471741"
     },
     "user_tz": -540
    },
    "id": "8RuWm4JLYqvD",
    "outputId": "0464d96f-38bc-4a94-9230-f5772d720f1d"
   },
   "outputs": [
    {
     "name": "stdout",
     "output_type": "stream",
     "text": [
      "Cloning into 'machine_learning_study'...\n",
      "warning: You appear to have cloned an empty repository.\n"
     ]
    }
   ],
   "source": [
    "import numpy as np\n",
    "import pandas as pd\n",
    "import matplotlib.pyplot as plt"
   ]
  },
  {
   "cell_type": "markdown",
   "metadata": {
    "id": "gVqxjuTfY521"
   },
   "source": [
    "Importing the dataset"
   ]
  },
  {
   "cell_type": "code",
   "execution_count": null,
   "metadata": {
    "colab": {
     "base_uri": "https://localhost:8080/"
    },
    "executionInfo": {
     "elapsed": 856,
     "status": "ok",
     "timestamp": 1695790598643,
     "user": {
      "displayName": "장태훈",
      "userId": "12651055537229471741"
     },
     "user_tz": -540
    },
    "id": "OzxQih2MY9m_",
    "outputId": "a3b2c2e4-5095-4de7-efea-59f206df13a0"
   },
   "outputs": [
    {
     "name": "stdout",
     "output_type": "stream",
     "text": [
      "[['France' 44.0 72000.0]\n",
      " ['Spain' 27.0 48000.0]\n",
      " ['Germany' 30.0 54000.0]\n",
      " ['Spain' 38.0 61000.0]\n",
      " ['Germany' 40.0 nan]\n",
      " ['France' 35.0 58000.0]\n",
      " ['Spain' nan 52000.0]\n",
      " ['France' 48.0 79000.0]\n",
      " ['Germany' 50.0 83000.0]\n",
      " ['France' 37.0 67000.0]]\n",
      "['No' 'Yes' 'No' 'No' 'Yes' 'Yes' 'No' 'Yes' 'No' 'Yes']\n",
      "(10, 3)\n",
      "(10,)\n"
     ]
    }
   ],
   "source": [
    "dataset = pd.read_csv('/content/drive/MyDrive/유데미/study/section3_데이터 전처리/Data.csv')\n",
    "#머신 러닝 모델 훈련 데이터 세트에는 특성 / 종속 변수 백터가 있다.\n",
    "#특성 열을 사용해 종속 변수 예측 -> 종속 변수는 마지막 열\n",
    "\n",
    "X = dataset.iloc[:, :-1].values #values = 데이터를 넘파이 배열로 추출\n",
    "y = dataset.iloc[:, -1].values\n",
    "print(X)\n",
    "print(y)\n",
    "print(X.shape)\n",
    "print(y.shape)"
   ]
  },
  {
   "cell_type": "markdown",
   "metadata": {
    "id": "pBtdGCFU2vuw"
   },
   "source": [
    "\n",
    "1.   Taking care of missing data\n",
    "2.   Encoding categorical data\n",
    "3. Encoding the Dependent Variable"
   ]
  },
  {
   "cell_type": "code",
   "execution_count": null,
   "metadata": {
    "colab": {
     "base_uri": "https://localhost:8080/"
    },
    "executionInfo": {
     "elapsed": 5,
     "status": "ok",
     "timestamp": 1695790598643,
     "user": {
      "displayName": "장태훈",
      "userId": "12651055537229471741"
     },
     "user_tz": -540
    },
    "id": "1AOThupX21Iw",
    "outputId": "0a22e238-550d-41f7-c3d7-7970def00f40"
   },
   "outputs": [
    {
     "name": "stdout",
     "output_type": "stream",
     "text": [
      "[['France' 44.0 72000.0]\n",
      " ['Spain' 27.0 48000.0]\n",
      " ['Germany' 30.0 54000.0]\n",
      " ['Spain' 38.0 61000.0]\n",
      " ['Germany' 40.0 63777.77777777778]\n",
      " ['France' 35.0 58000.0]\n",
      " ['Spain' 38.77777777777778 52000.0]\n",
      " ['France' 48.0 79000.0]\n",
      " ['Germany' 50.0 83000.0]\n",
      " ['France' 37.0 67000.0]]\n",
      "[[1.0 0.0 0.0 44.0 72000.0]\n",
      " [0.0 0.0 1.0 27.0 48000.0]\n",
      " [0.0 1.0 0.0 30.0 54000.0]\n",
      " [0.0 0.0 1.0 38.0 61000.0]\n",
      " [0.0 1.0 0.0 40.0 63777.77777777778]\n",
      " [1.0 0.0 0.0 35.0 58000.0]\n",
      " [0.0 0.0 1.0 38.77777777777778 52000.0]\n",
      " [1.0 0.0 0.0 48.0 79000.0]\n",
      " [0.0 1.0 0.0 50.0 83000.0]\n",
      " [1.0 0.0 0.0 37.0 67000.0]]\n"
     ]
    },
    {
     "data": {
      "text/plain": [
       "array([0, 1, 0, 0, 1, 1, 0, 1, 0, 1])"
      ]
     },
     "execution_count": 4,
     "metadata": {},
     "output_type": "execute_result"
    }
   ],
   "source": [
    "#결측치 -> 평균으로 대체\n",
    "from sklearn.impute import SimpleImputer\n",
    "imputer = SimpleImputer(missing_values=np.nan, strategy='mean') #missing_values=np.nan 모든 결측값을 대체한다. / strategy='mean' 평균으로 대체한다.\n",
    "imputer.fit(X[:,1:3]) #숫자값을 가지는 열만 전달해야 한다. 어디에 결측값이 있을지 모르니 모든 숫자형 열 선택\n",
    "X[:,1:3] = imputer.transform(X[:,1:3])\n",
    "print(X)\n",
    "\n",
    "\n",
    "#원핫 인코딩 / 한 특성이 여러 개의 범주를 가질 때\n",
    "from sklearn.compose import ColumnTransformer #ColumnTransformer에는 fit_transform 메서드가 있어서 한 번에 처리할 수 있다.\n",
    "from sklearn.preprocessing import OneHotEncoder\n",
    "ct = ColumnTransformer(transformers=[('encoder', OneHotEncoder(),[0] )], remainder='passthrough')\n",
    "#transformer에는 세 가지 명시 -> 변환 유형인 인코딩, 인코딩 유형인 원핫 인코딩, 열의 인덱스 []안에 ()에 튜플 형태로 입력\n",
    "#remainder은 나머지 열은 어떻게 처리할지를 명시 'passthrough' 나머지 열 변환하지 않는다.\n",
    "X = ct.fit_transform(X)\n",
    "print(X)\n",
    "\n",
    "\n",
    "#레이블 인코딩 / 한 특성이 두 개의 범주를 가질 때\n",
    "from sklearn.preprocessing import LabelEncoder\n",
    "le = LabelEncoder()\n",
    "y = le.fit_transform(y)\n",
    "y"
   ]
  },
  {
   "cell_type": "markdown",
   "metadata": {
    "id": "sXkRky04DQu-"
   },
   "source": [
    "Splitting the dataset into the Training set and Test set"
   ]
  },
  {
   "cell_type": "code",
   "execution_count": null,
   "metadata": {
    "id": "wXD7KdAxJFtB"
   },
   "outputs": [],
   "source": [
    "#데이터 세트를 훈련 세트와 테스트 세트로 나눈 후 특성 스케일링을 적용해야 한다.\n",
    "from sklearn.model_selection import train_test_split\n",
    "\n",
    "X_train, X_test, y_train, y_test = train_test_split(X, y, test_size = 0.2, random_state=1) #권장 훈련 세트 80%, 테스트 세트 20%"
   ]
  },
  {
   "cell_type": "markdown",
   "metadata": {
    "id": "Xmu969nFJJ5f"
   },
   "source": [
    "Feature Scaling -> 하는 이유 (복)\n",
    "=> 특성 스케일이 다르면 머신러닝 알고리즘이 잘 작동하지 않는다."
   ]
  },
  {
   "cell_type": "code",
   "execution_count": null,
   "metadata": {
    "colab": {
     "base_uri": "https://localhost:8080/"
    },
    "executionInfo": {
     "elapsed": 363,
     "status": "ok",
     "timestamp": 1695790599003,
     "user": {
      "displayName": "장태훈",
      "userId": "12651055537229471741"
     },
     "user_tz": -540
    },
    "id": "KJWp1xUQcV9u",
    "outputId": "5e799e99-a6c6-4d41-f8c1-a978af808df9"
   },
   "outputs": [
    {
     "name": "stdout",
     "output_type": "stream",
     "text": [
      "[[0.0 0.0 1.0 -0.19159184384578545 -1.0781259408412422]\n",
      " [0.0 1.0 0.0 -0.014117293757057777 -0.0701316764163537]\n",
      " [1.0 0.0 0.0 0.566708506533324 0.6335624327104549]\n",
      " [0.0 0.0 1.0 -0.30453019390224867 -0.3078661727429786]\n",
      " [0.0 0.0 1.0 -1.9018011447007988 -1.4204636155515817]\n",
      " [1.0 0.0 0.0 1.1475343068237058 1.2326533634535488]\n",
      " [0.0 1.0 0.0 1.4379472069688968 1.5749910381638883]\n",
      " [1.0 0.0 0.0 -0.7401495441200351 -0.5646194287757332]]\n",
      "\n",
      "[[0.0 1.0 0.0 -1.4661817944830124 -0.9069571034860726]\n",
      " [1.0 0.0 0.0 -0.44973664397484414 0.20564033932253056]]\n"
     ]
    }
   ],
   "source": [
    "#표준화 = -3 ~ 3 사이의 값 -> 항상 좋은 값이 나온다.\n",
    "#정규화 = 대부분의 특성이 정규 분포를 따른다는 특수한 상황에서만 좋다.\n",
    "\n",
    "#테스트 세트는 fit()할 필요가 없다. -> transfrom만 한다.\n",
    "#특성 행렬의 가변수에도 특성 스케일링의 표준화를 적용해야 하나? -> 안 한다.\n",
    "#표준화 = 모든 특성의 값을 동일한 범위로 변환하는 것 -> 가변수는 0, 1 이미 -3 ~ 3 사이에 있다. => 의미가 없다.\n",
    "#가변수의 의미가 사라진다.\n",
    "from sklearn.preprocessing import StandardScaler\n",
    "sc = StandardScaler()\n",
    "X_train[:, [3,4]] = sc.fit_transform(X_train[:, [3,4]])\n",
    "X_test[:, [3,4]] = sc.transform(X_test[:, [3,4]])\n",
    "#fit()은 각 특성의 평균과 표준편차를 가져올 뿐\n",
    "#transform()은 이 식을 적용해 모든 값의 스케일을 맞춘다.\n",
    "\n",
    "print(X_train)\n",
    "print()\n",
    "print(X_test)"
   ]
  }
 ],
 "metadata": {
  "colab": {
   "authorship_tag": "ABX9TyPl9ao23tvaN3WuEDf1l8Gz",
   "mount_file_id": "1LcLhmb9Hml7rss7qO5q5RMu2DzaAgwSs",
   "provenance": []
  },
  "kernelspec": {
   "display_name": "Python 3 (ipykernel)",
   "language": "python",
   "name": "python3"
  },
  "language_info": {
   "codemirror_mode": {
    "name": "ipython",
    "version": 3
   },
   "file_extension": ".py",
   "mimetype": "text/x-python",
   "name": "python",
   "nbconvert_exporter": "python",
   "pygments_lexer": "ipython3",
   "version": "3.10.0"
  }
 },
 "nbformat": 4,
 "nbformat_minor": 4
}
